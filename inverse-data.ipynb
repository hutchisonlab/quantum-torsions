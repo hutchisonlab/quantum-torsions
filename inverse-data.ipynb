{
 "cells": [
  {
   "cell_type": "code",
   "execution_count": null,
   "id": "067fb3a0-cef9-4809-b7ec-15c233376351",
   "metadata": {},
   "outputs": [],
   "source": [
    "import numpy as np\n",
    "import matplotlib.pyplot as plt\n",
    "import seaborn as sns\n",
    "\n",
    "from scipy.interpolate import interp1d\n",
    "\n",
    "%matplotlib inline\n",
    "%config InlineBackend.figure_format = 'retina'"
   ]
  },
  {
   "cell_type": "code",
   "execution_count": null,
   "id": "68aeb08f-17b0-4ca8-a829-aaeb51888286",
   "metadata": {},
   "outputs": [],
   "source": [
    "# Fitting from a sum of X gaussians\n",
    "# f(x) = a * exp( -\\frac{(x - b)^2}{2c^2} )\n",
    "def vargauss(x, *args):\n",
    "    count = int(len(args)/3)\n",
    "    # need center, width and scaling\n",
    "    scale = args[0::3]\n",
    "    center = args[1::3]\n",
    "    width = args[2::3]\n",
    "    y = np.zeros_like(x)\n",
    "    for m in range(count):\n",
    "        s = scale[m]\n",
    "        c = center[m]\n",
    "        w = width[m]\n",
    "        y = y + s*np.exp(-(((x - c))/w)**2)\n",
    "    return y"
   ]
  },
  {
   "cell_type": "code",
   "execution_count": null,
   "id": "16b1af37-d60f-4236-8ab0-b916ff6d27c5",
   "metadata": {},
   "outputs": [],
   "source": [
    "# read the Gaussian patterns and fit parameters\n",
    "\n",
    "# read in the torsion patterns\n",
    "fit_file = \"gauss-fit.txt\"\n",
    "new_file = \"qtdg.txt\"\n",
    "\n",
    "with open(new_file, \"w\") as fits:\n",
    "    fits.write(\"// qtdg patterns\\n\")\n",
    "\n",
    "with open(fit_file) as patterns:\n",
    "    pattern = 0\n",
    "    for line in patterns:\n",
    "        pattern += 1\n",
    "        # skip the comment at the top\n",
    "        if \"//\" in line:\n",
    "            continue\n",
    "            \n",
    "        smarts = line.split()[0]\n",
    "        args = np.array(line.split()[1:], dtype=np.float32)\n",
    "        \n",
    "        x = np.linspace(0.0, 360.0, 360)\n",
    "        # build up the y potential in a loop\n",
    "        degrees = np.zeros_like(x)\n",
    "        total = 0.0\n",
    "        for d in range(360):\n",
    "            degree = d\n",
    "            if d > 180:\n",
    "                degree = 180 - (d - 180)\n",
    "            degrees[d] = float(degree)\n",
    "            \n",
    "        values = vargauss(degrees, *args)\n",
    "        totals = np.cumsum(values)\n",
    "        \n",
    "        if (np.sum(values) < 0.01):\n",
    "            print(smarts, \"weird sum\")\n",
    "            continue\n",
    "        elif (not np.isfinite(np.sum(values))):\n",
    "            print(smarts, \"nan\")\n",
    "            continue\n",
    "        \n",
    "        totals = totals / np.sum(values) # normalize\n",
    "            \n",
    "        # okay, now we need to invert these\n",
    "        totals = np.insert(totals, 0, 0.0)\n",
    "        x = np.insert(x, 0, 0.0)\n",
    "        \n",
    "        inverted = interp1d(totals, x)\n",
    "        steps = np.arange(0.0, 1.0, 0.05)\n",
    "        val = inverted(steps)\n",
    "        # print(steps, val)\n",
    "        \n",
    "        # append the smarts and fits\n",
    "        with open(new_file, \"a\") as fits:\n",
    "            array = np.array2string(val, formatter={'float_kind':lambda x: \"%.1f\" % x}, separator=' ', max_line_width=511)\n",
    "            fits.write(smarts + ' ' + array[1:-1] + '\\n')"
   ]
  },
  {
   "cell_type": "code",
   "execution_count": null,
   "id": "c16f6d25-276b-48da-b851-b5007b1baa2b",
   "metadata": {},
   "outputs": [],
   "source": []
  }
 ],
 "metadata": {
  "kernelspec": {
   "display_name": "Python 3 (ipykernel)",
   "language": "python",
   "name": "python3"
  },
  "language_info": {
   "codemirror_mode": {
    "name": "ipython",
    "version": 3
   },
   "file_extension": ".py",
   "mimetype": "text/x-python",
   "name": "python",
   "nbconvert_exporter": "python",
   "pygments_lexer": "ipython3",
   "version": "3.9.13"
  }
 },
 "nbformat": 4,
 "nbformat_minor": 5
}
